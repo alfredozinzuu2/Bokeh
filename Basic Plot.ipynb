{
 "cells": [
  {
   "cell_type": "code",
   "execution_count": 13,
   "id": "broad-vanilla",
   "metadata": {},
   "outputs": [
    {
     "data": {
      "text/plain": [
       "'C:\\\\Users\\\\Alfredo Zinzu\\\\Documents\\\\Codigo\\\\Bokeh\\\\iris.html'"
      ]
     },
     "execution_count": 13,
     "metadata": {},
     "output_type": "execute_result"
    }
   ],
   "source": [
    "#Graficando especies de flores\n",
    "\n",
    "                                #Importando librerías\n",
    "from bokeh.plotting import figure\n",
    "from bokeh.io import output_file, show, save\n",
    "from bokeh.sampledata.iris import flowers\n",
    "from bokeh.models import Range1d, PanTool, ResetTool, HoverTool, WheelZoomTool\n",
    "from screeninfo import get_monitors\n",
    "\n",
    "                #Definimos la ruta del objeto de salida\n",
    "output_file('iris.html')\n",
    "\n",
    "#Instanciamos la figura\n",
    "f=figure()\n",
    "\n",
    "                        #Configurar la barra de herramientas\n",
    "f.tools=[PanTool(),ResetTool(), WheelZoomTool()]\n",
    "#f.add_tools(HoverTool())\n",
    "hover = HoverTool(tooltips=[('Species', '@species'),('Sepal Width', '@sepal_width')])\n",
    "f.add_tools(hover)\n",
    "f.toolbar_location = 'above'\n",
    "f.toolbar.logo = None\n",
    "\n",
    "\n",
    "                        #Dándole estilo al área de ploteado\n",
    "#f.plot_width = 1100\n",
    "#f.plot_height = 650\n",
    "\n",
    "f.plot_width = get_monitors()[0].width #get_monitors is part of the screeninfo module imported above\n",
    "f.plot_height = get_monitors()[0].height - 50 #get_monitors is part of the screeninfo module imported above\n",
    "f.background_fill_color = 'DarkSlateGray'\n",
    "f.background_fill_alpha = 0.1\n",
    "f.sizing_mode = 'stretch_both' #graph will resize itself when user resizes the browser\n",
    "f.border_fill_color = 'Silver'\n",
    "\n",
    "                            # Le damos un estitlo a la gráfica\n",
    "f.title.text = 'Iris Morphology'\n",
    "f.title.text_color = 'olive'\n",
    "f.title.text_alpha = 0.6\n",
    "f.title.text_font = 'antiqua'\n",
    "f.title.text_font_size = '18px'\n",
    "f.title.align = 'center'\n",
    "\n",
    "                                #Modificando los ejes\n",
    "f.xaxis.minor_tick_line_color = 'red' # puede ponerse yaxis o axis para configurar ambas\n",
    "f.yaxis.major_label_orientation = 'vertical' #voltea las etiquetas\n",
    "f.xaxis.visible = True #para ocultar o mostrar los ejes\n",
    "#f.xaxis.minor_tick_line_color = None #para retirar las escalas\n",
    "f.xaxis.minor_tick_in = 6 # cuanto mide la barra hacia adentro de la gráfica\n",
    "f.xaxis.minor_tick_out = 6  # cuánto mide hacia afuera\n",
    "f.xaxis.axis_label = 'Petal Length'\n",
    "f.yaxis.axis_label = 'Petal Width'\n",
    "f.axis.axis_label_text_color = 'red' #Cambia el color del título de los ejes\n",
    "f.axis.major_label_text_color = 'blue' #Cambia el color de las etiquetas de los ejes\n",
    "\n",
    "                                #Dimensiones de los ejes\n",
    "#f.x_range = Range1d(start =0 ,end=10)\n",
    "#f.y_range = Range1d(start =0 ,end= 5)\n",
    "f.x_range = Range1d(start=flowers[\"petal_length\"][flowers[\"species\"]=='versicolor'].min(),\n",
    "                        end=flowers[\"petal_length\"][flowers[\"species\"]=='versicolor'].max())\n",
    "f.y_range = Range1d(start=flowers[\"petal_width\"][flowers[\"species\"]=='versicolor'].min(),\n",
    "                        end=flowers[\"petal_width\"][flowers[\"species\"]=='versicolor'].max())\n",
    "#f.xaxis.bounds=(2,5)\n",
    "f.xaxis[0].ticker.desired_num_ticks = 6\n",
    "f.yaxis[0].ticker.desired_num_ticks = 6\n",
    "f.yaxis[0].ticker.num_minor_ticks = 5\n",
    "f.xaxis[0].ticker.num_minor_ticks = 5\n",
    "\n",
    "                                    #Configurar el trazado\n",
    "#f.xgrid.grid_line_color = 'blue'\n",
    "#f.ygrid.grid_line_alpha = 0.9\n",
    "#f.grid.grid_line_dash = [5,2]\n",
    "\n",
    "f.grid.grid_line_color = (128,128,0,0.5) #equivalent to olive color with a 0.5 alpha value\n",
    "f.grid.grid_line_dash = [5,3] #5 pixels of line and 3 pixels of space\n",
    "f.grid.minor_grid_line_color = (128,128,0,0.1) #equivalent to olive color with a 0.1 alpha value\n",
    "f.grid.minor_grid_line_dash = [3,3]\n",
    "\n",
    "\n",
    "colormap = {'setosa': 'red', 'versicolor': 'green', 'virginica': 'blue'}\n",
    "flowers['color'] = [colormap[x] for x in flowers['species']]\n",
    "                            # Añadimos las figuritas del trazo\n",
    "f.circle(x = flowers['petal_length'][flowers['species']== 'setosa'], y=flowers['petal_width'][flowers['species']== 'setosa'],\n",
    "        size = flowers['petal_width'][flowers['species']== 'setosa']*4,\n",
    "        fill_alpha = 0.2, color = flowers['color'][flowers['species']== 'setosa'],line_dash = [5,3], legend = 'Setosa')\n",
    "\n",
    "f.circle(x = flowers['petal_length'][flowers['species']== 'versicolor'], y=flowers['petal_width'][flowers['species']== 'versicolor'],\n",
    "        size = flowers['petal_width'][flowers['species']== 'versicolor']*4,\n",
    "        fill_alpha = 0.2, color = flowers['color'][flowers['species']== 'versicolor'],line_dash = [5,3], legend = 'Versicolor')\n",
    "\n",
    "f.circle(x = flowers['petal_length'][flowers['species']== 'virginica'], y=flowers['petal_width'][flowers['species']== 'virginica'],\n",
    "        size = flowers['petal_width'][flowers['species']== 'virginica']*4,\n",
    "        fill_alpha = 0.2, color = flowers['color'][flowers['species']== 'virginica'],line_dash = [5,3], legend = 'Virginica')\n",
    "\n",
    "#f.circle(x=flowers['petal_length'], y=flowers['petal_width'],size = flowers['sepal_width']*2, \n",
    " #        fill_alpha = 0.2, color = flowers['color'], line_dash = [5,3])\n",
    "\n",
    "                                #Personaliza las leyendas\n",
    "#f.legend.location = (575,555)\n",
    "f.legend.location = 'top_left'\n",
    "f.legend.background_fill_alpha = 0\n",
    "f.legend.border_line_color = None\n",
    "f.legend.margin = 10\n",
    "f.legend.padding = 18\n",
    "f.legend.spacing = 1\n",
    "f.legend.label_text_color = 'olive'\n",
    "f.legend.label_text_font = 'antiqua'\n",
    "    \n",
    "    \n",
    "#Guardamos la figura y la mostramos\n",
    "save(f)"
   ]
  },
  {
   "cell_type": "code",
   "execution_count": 43,
   "id": "conscious-clause",
   "metadata": {},
   "outputs": [
    {
     "ename": "NameError",
     "evalue": "name 'bokeh' is not defined",
     "output_type": "error",
     "traceback": [
      "\u001b[1;31m---------------------------------------------------------------------------\u001b[0m",
      "\u001b[1;31mNameError\u001b[0m                                 Traceback (most recent call last)",
      "\u001b[1;32mC:\\Users\\ALFRED~1\\AppData\\Local\\Temp/ipykernel_11460/3229262523.py\u001b[0m in \u001b[0;36m<module>\u001b[1;34m\u001b[0m\n\u001b[1;32m----> 1\u001b[1;33m \u001b[0mdir\u001b[0m\u001b[1;33m(\u001b[0m\u001b[0mbokeh\u001b[0m\u001b[1;33m.\u001b[0m\u001b[0mmodels\u001b[0m\u001b[1;33m.\u001b[0m\u001b[0mtools\u001b[0m\u001b[1;33m)\u001b[0m\u001b[1;33m\u001b[0m\u001b[1;33m\u001b[0m\u001b[0m\n\u001b[0m",
      "\u001b[1;31mNameError\u001b[0m: name 'bokeh' is not defined"
     ]
    }
   ],
   "source": [
    "dir(bokeh.models.tools)"
   ]
  },
  {
   "cell_type": "code",
   "execution_count": null,
   "id": "fancy-chance",
   "metadata": {},
   "outputs": [],
   "source": []
  }
 ],
 "metadata": {
  "kernelspec": {
   "display_name": "Python 3 (ipykernel)",
   "language": "python",
   "name": "python3"
  },
  "language_info": {
   "codemirror_mode": {
    "name": "ipython",
    "version": 3
   },
   "file_extension": ".py",
   "mimetype": "text/x-python",
   "name": "python",
   "nbconvert_exporter": "python",
   "pygments_lexer": "ipython3",
   "version": "3.8.10"
  }
 },
 "nbformat": 4,
 "nbformat_minor": 5
}
