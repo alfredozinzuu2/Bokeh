{
 "cells": [
  {
   "cell_type": "code",
   "execution_count": 1,
   "id": "friendly-assistant",
   "metadata": {},
   "outputs": [],
   "source": [
    "import requests\n",
    "from bs4 import BeautifulSoup\n"
   ]
  },
  {
   "cell_type": "code",
   "execution_count": 2,
   "id": "functional-anime",
   "metadata": {},
   "outputs": [],
   "source": [
    "r = requests.get('http://bitcoincharts.com/markets/okcoinCNY.html', headers = {'User-Agent': 'Mozilla/5.0'})\n",
    "c = r.content"
   ]
  },
  {
   "cell_type": "code",
   "execution_count": 3,
   "id": "honey-contrast",
   "metadata": {},
   "outputs": [],
   "source": [
    "soup = BeautifulSoup(c, 'html.parser')"
   ]
  },
  {
   "cell_type": "code",
   "execution_count": 5,
   "id": "developmental-seeking",
   "metadata": {},
   "outputs": [],
   "source": [
    "value_raw = soup.find_all('p')"
   ]
  },
  {
   "cell_type": "code",
   "execution_count": 6,
   "id": "worth-subsection",
   "metadata": {},
   "outputs": [
    {
     "data": {
      "text/plain": [
       "[<p><label>Last Trade</label><span></span></p>,\n",
       " <p><label>Best Bid</label><span>2845.72</span></p>,\n",
       " <p><label>Best Ask</label><span>2845.73</span></p>,\n",
       " <p><label>Trade Time</label><span></span></p>,\n",
       " <p><label>30-day Range</label><span> — </span></p>,\n",
       " <p><label>30-day Volume</label><span> BTC</span></p>,\n",
       " <p><label>30-day Volume (Currency)</label><span> CNY</span></p>,\n",
       " <p><label>Symbol</label><span>okcoinCNY</span></p>,\n",
       " <p><label>Currency</label><span>CNY</span></p>,\n",
       " <p><label>Website</label><span><a href=\"https://www.okcoin.com/\" target=\"_blank\">https://www.okcoin.com/</a></span></p>,\n",
       " <p>\n",
       " <a href=\"/charts/okcoinCNY\">\n",
       "     view larger chart\n",
       "   </a>\n",
       " </p>,\n",
       " <p><strong>y:</strong> Volume in BTC, <strong>x:</strong> price</p>,\n",
       " <p>We are interested in feedback! Email <a href=\"mailto:info@bitcoincharts.com\">info@bitcoincharts.com</a> any questions or comments you might have.</p>]"
      ]
     },
     "execution_count": 6,
     "metadata": {},
     "output_type": "execute_result"
    }
   ],
   "source": [
    "value_raw"
   ]
  },
  {
   "cell_type": "markdown",
   "id": "positive-subsection",
   "metadata": {},
   "source": [
    "value_net = float(value_raw[1].span.text)\n",
    "value_net"
   ]
  },
  {
   "cell_type": "code",
   "execution_count": null,
   "id": "posted-whale",
   "metadata": {},
   "outputs": [],
   "source": []
  }
 ],
 "metadata": {
  "kernelspec": {
   "display_name": "Python 3 (ipykernel)",
   "language": "python",
   "name": "python3"
  },
  "language_info": {
   "codemirror_mode": {
    "name": "ipython",
    "version": 3
   },
   "file_extension": ".py",
   "mimetype": "text/x-python",
   "name": "python",
   "nbconvert_exporter": "python",
   "pygments_lexer": "ipython3",
   "version": "3.8.10"
  }
 },
 "nbformat": 4,
 "nbformat_minor": 5
}
